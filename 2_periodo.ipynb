{
  "cells": [
    {
      "cell_type": "markdown",
      "metadata": {
        "id": "view-in-github",
        "colab_type": "text"
      },
      "source": [
        "<a href=\"https://colab.research.google.com/github/gabriellcortes/ieeecisunb/blob/main/2_periodo.ipynb\" target=\"_parent\"><img src=\"https://colab.research.google.com/assets/colab-badge.svg\" alt=\"Open In Colab\"/></a>"
      ]
    },
    {
      "cell_type": "code",
      "execution_count": 102,
      "metadata": {
        "id": "rFjeVJEK_kDN"
      },
      "outputs": [],
      "source": [
        "import matplotlib.pyplot as plt\n",
        "import numpy as np\n",
        "import pandas as pd\n",
        "import seaborn as sns\n",
        "from sklearn.linear_model import LinearRegression\n",
        "from sklearn.metrics import r2_score\n",
        "from sklearn.cluster import KMeans \n",
        "from sklearn.linear_model import LogisticRegression\n",
        "from sklearn.model_selection import train_test_split\n",
        "from sklearn.metrics import confusion_matrix, classification_report\n",
        "from sklearn.metrics import roc_curve\n",
        "from sklearn.preprocessing import StandardScaler\n",
        "import statsmodels.api as sm\n",
        "from sklearn.decomposition import PCA\n",
        "from scipy.spatial import distance as sci_distance\n",
        "from sklearn import cluster as sk_cluster\n",
        "\n",
        "url = \"https://raw.githubusercontent.com/jbrownlee/Datasets/master/iris.csv\" # Vou utilizar o banco de dados Iris por praticidade\n",
        "colunas = [\"sepal-length\", \"sepal-width\", \"petal-length\", \"petal-width\", \"class\"]\n",
        "dados = pd.read_csv(url, names=colunas)"
      ]
    },
    {
      "cell_type": "code",
      "execution_count": 65,
      "metadata": {
        "colab": {
          "base_uri": "https://localhost:8080/"
        },
        "id": "wzIxrXzcCBk5",
        "outputId": "638d5840-4e4a-4d6d-d9c7-62fe41328305"
      },
      "outputs": [
        {
          "output_type": "stream",
          "name": "stdout",
          "text": [
            "(150, 5)\n"
          ]
        },
        {
          "output_type": "execute_result",
          "data": {
            "text/plain": [
              "array(['Iris-setosa', 'Iris-versicolor', 'Iris-virginica'], dtype=object)"
            ]
          },
          "metadata": {},
          "execution_count": 65
        }
      ],
      "source": [
        "#verificando a estrutura dos dados importados: são 150 linhas e 5 colunas\n",
        "print(dados.shape)\n",
        "#verificando o conteúdo das peimeiras linhas do dataset\n",
        "dados.head()\n",
        "dados[\"class\"].unique()"
      ]
    },
    {
      "cell_type": "code",
      "source": [
        "print(dados.describe())"
      ],
      "metadata": {
        "colab": {
          "base_uri": "https://localhost:8080/"
        },
        "id": "oTwF8LCtqC9a",
        "outputId": "b90b77ab-fbee-4995-d28f-5a72526a7e38"
      },
      "execution_count": null,
      "outputs": [
        {
          "output_type": "stream",
          "name": "stdout",
          "text": [
            "       sepal-length  sepal-width  petal-length  petal-width\n",
            "count    150.000000   150.000000    150.000000   150.000000\n",
            "mean       5.843333     3.054000      3.758667     1.198667\n",
            "std        0.828066     0.433594      1.764420     0.763161\n",
            "min        4.300000     2.000000      1.000000     0.100000\n",
            "25%        5.100000     2.800000      1.600000     0.300000\n",
            "50%        5.800000     3.000000      4.350000     1.300000\n",
            "75%        6.400000     3.300000      5.100000     1.800000\n",
            "max        7.900000     4.400000      6.900000     2.500000\n"
          ]
        }
      ]
    },
    {
      "cell_type": "markdown",
      "source": [
        "# **Regressão linear simples**\n"
      ],
      "metadata": {
        "id": "YnqTHx6ZrgIi"
      }
    },
    {
      "cell_type": "code",
      "execution_count": null,
      "metadata": {
        "colab": {
          "base_uri": "https://localhost:8080/",
          "height": 334
        },
        "id": "MRH5mxuqGrQS",
        "outputId": "eca25544-b68a-4bb0-db54-b21013c1adfe"
      },
      "outputs": [
        {
          "output_type": "display_data",
          "data": {
            "image/png": "[encoded data removed]",
            "text/plain": [
              "<Figure size 648x360 with 1 Axes>"
            ]
          },
          "metadata": {
            "needs_background": "light"
          }
        }
      ],
      "source": [
        "X = dados['sepal-length']\n",
        "Y = dados['petal-length']\n",
        "\n",
        "X = X.values.reshape(-1,1)\n",
        "Y = Y.values.reshape(-1,1)\n",
        "\n",
        "linear_regressor = LinearRegression()  # create object for the class\n",
        "linear_regressor.fit(X, Y)  # perform linear regression\n",
        "Y_pred = linear_regressor.predict(X)  # make predictions\n",
        "\n",
        "\n",
        "plt.figure(figsize=(9,5))\n",
        "plt.grid(True) \n",
        "plt.xlabel('Tamanho da sépala')\n",
        "plt.ylabel('Tamanho da pétala')\n",
        "plt.plot(X, Y_pred, color='red')\n",
        "plt.scatter(X, Y)\n",
        "plt.show()"
      ]
    },
    {
      "cell_type": "code",
      "source": [
        "print(\"O modelo é: Y = {:.5} + {:.5}X\".format(linear_regressor.intercept_[0], linear_regressor.coef_[0][0]))"
      ],
      "metadata": {
        "colab": {
          "base_uri": "https://localhost:8080/"
        },
        "id": "cT6Ynak2nY1X",
        "outputId": "67fb584d-aafc-4ff5-978c-64187b910599"
      },
      "execution_count": null,
      "outputs": [
        {
          "output_type": "stream",
          "name": "stdout",
          "text": [
            "O modelo é: Y = -7.0954 + 1.8575X\n"
          ]
        }
      ]
    },
    {
      "cell_type": "markdown",
      "source": [
        "Com o código a baixo criamos um resumo que mostra várias características de nosso modelo. Avaliaremos sua qualidade através do R² e do \"p-valor\":"
      ],
      "metadata": {
        "id": "MaM77ZyjqqFU"
      }
    },
    {
      "cell_type": "code",
      "source": [
        "X2 = sm.add_constant(X)\n",
        "est = sm.OLS(Y, X2)\n",
        "est2 = est.fit()\n",
        "print(est2.summary())"
      ],
      "metadata": {
        "colab": {
          "base_uri": "https://localhost:8080/"
        },
        "id": "7bdkjzAMqd-9",
        "outputId": "fa4fd0ab-3cf7-4d06-fee9-d1519d237fe2"
      },
      "execution_count": null,
      "outputs": [
        {
          "output_type": "stream",
          "name": "stdout",
          "text": [
            "                            OLS Regression Results                            \n",
            "==============================================================================\n",
            "Dep. Variable:                      y   R-squared:                       0.760\n",
            "Model:                            OLS   Adj. R-squared:                  0.758\n",
            "Method:                 Least Squares   F-statistic:                     468.6\n",
            "Date:                Sat, 15 Jan 2022   Prob (F-statistic):           1.04e-47\n",
            "Time:                        12:16:50   Log-Likelihood:                -190.49\n",
            "No. Observations:                 150   AIC:                             385.0\n",
            "Df Residuals:                     148   BIC:                             391.0\n",
            "Df Model:                           1                                         \n",
            "Covariance Type:            nonrobust                                         \n",
            "==============================================================================\n",
            "                 coef    std err          t      P>|t|      [0.025      0.975]\n",
            "------------------------------------------------------------------------------\n",
            "const         -7.0954      0.506    -14.011      0.000      -8.096      -6.095\n",
            "x1             1.8575      0.086     21.646      0.000       1.688       2.027\n",
            "==============================================================================\n",
            "Omnibus:                        0.255   Durbin-Watson:                   1.204\n",
            "Prob(Omnibus):                  0.880   Jarque-Bera (JB):                0.384\n",
            "Skew:                          -0.084   Prob(JB):                        0.825\n",
            "Kurtosis:                       2.817   Cond. No.                         43.4\n",
            "==============================================================================\n",
            "\n",
            "Warnings:\n",
            "[1] Standard Errors assume that the covariance matrix of the errors is correctly specified.\n"
          ]
        }
      ]
    },
    {
      "cell_type": "markdown",
      "source": [
        "# **Regressão linear Múltipla**\n",
        "Semelhante a regressão linear simples, irei procurar a variavel resposta tamanho da pétala.\n",
        "Construindo o modelo:"
      ],
      "metadata": {
        "id": "F20HiEEfrCOj"
      }
    },
    {
      "cell_type": "code",
      "source": [
        "Xs = dados.drop(['petal-length', 'class'], axis=1)\n",
        "\n",
        "reg = LinearRegression()\n",
        "reg.fit(Xs, Y)\n",
        "\n",
        "print(\"O modelo é: petal-length = {:.5} + {:.5}*sepal-length\t + {:.5}*sepal-width + {:.5}*sepal-width\".format(reg.intercept_[0], reg.coef_[0][0], reg.coef_[0][1], reg.coef_[0][2]))"
      ],
      "metadata": {
        "colab": {
          "base_uri": "https://localhost:8080/"
        },
        "id": "8xs9CxEyrB3c",
        "outputId": "26de965f-3568-4ef9-84ab-9b90db7bd981"
      },
      "execution_count": null,
      "outputs": [
        {
          "output_type": "stream",
          "name": "stdout",
          "text": [
            "O modelo é: petal-length = -0.25266 + 0.73036*sepal-length\t + -0.65139*sepal-width + 1.4457*sepal-width\n"
          ]
        }
      ]
    },
    {
      "cell_type": "markdown",
      "source": [
        "vamos analisar a precisão do nosso modelo:"
      ],
      "metadata": {
        "id": "U7_emmOrv6Hn"
      }
    },
    {
      "cell_type": "code",
      "source": [
        "X = np.column_stack((dados['sepal-length'], dados['sepal-width'], dados['sepal-width']))\n",
        "\n",
        "X2 = sm.add_constant(X)\n",
        "est = sm.OLS(Y, X2)\n",
        "est2 = est.fit()\n",
        "print(est2.summary())"
      ],
      "metadata": {
        "colab": {
          "base_uri": "https://localhost:8080/"
        },
        "id": "MohRm1Tjv19m",
        "outputId": "f712f30c-0aad-4924-d09d-c11bae8d345e"
      },
      "execution_count": null,
      "outputs": [
        {
          "output_type": "stream",
          "name": "stdout",
          "text": [
            "                            OLS Regression Results                            \n",
            "==============================================================================\n",
            "Dep. Variable:                      y   R-squared:                       0.867\n",
            "Model:                            OLS   Adj. R-squared:                  0.865\n",
            "Method:                 Least Squares   F-statistic:                     479.0\n",
            "Date:                Sat, 15 Jan 2022   Prob (F-statistic):           4.07e-65\n",
            "Time:                        12:40:59   Log-Likelihood:                -146.22\n",
            "No. Observations:                 150   AIC:                             298.4\n",
            "Df Residuals:                     147   BIC:                             307.5\n",
            "Df Model:                           2                                         \n",
            "Covariance Type:            nonrobust                                         \n",
            "==============================================================================\n",
            "                 coef    std err          t      P>|t|      [0.025      0.975]\n",
            "------------------------------------------------------------------------------\n",
            "const         -2.5572      0.563     -4.540      0.000      -3.670      -1.444\n",
            "x1             1.7808      0.064     27.616      0.000       1.653       1.908\n",
            "x2            -0.6696      0.062    -10.875      0.000      -0.791      -0.548\n",
            "x3            -0.6696      0.062    -10.875      0.000      -0.791      -0.548\n",
            "==============================================================================\n",
            "Omnibus:                        3.975   Durbin-Watson:                   1.659\n",
            "Prob(Omnibus):                  0.137   Jarque-Bera (JB):                4.036\n",
            "Skew:                           0.381   Prob(JB):                        0.133\n",
            "Kurtosis:                       2.745   Cond. No.                     1.40e+17\n",
            "==============================================================================\n",
            "\n",
            "Warnings:\n",
            "[1] Standard Errors assume that the covariance matrix of the errors is correctly specified.\n",
            "[2] The smallest eigenvalue is 4.14e-31. This might indicate that there are\n",
            "strong multicollinearity problems or that the design matrix is singular.\n"
          ]
        }
      ]
    },
    {
      "cell_type": "markdown",
      "source": [
        "Pelo R² e os p-valores, observa-se que o modelo está bem ajustado e explica mais a variavel petal-length do que a regressão limples."
      ],
      "metadata": {
        "id": "w8d7ZVUHwceu"
      }
    },
    {
      "cell_type": "markdown",
      "source": [
        "# **Regressão logistica**\n",
        "Para a próxima análise, irei criar uma variável booleriana aleatória para fazer a regressão logistica"
      ],
      "metadata": {
        "id": "ZUyLYldDauwf"
      }
    },
    {
      "cell_type": "code",
      "source": [
        "names = ['Iris-virginica','Iris-versicolor'] #'Iris-setosa', 'Iris-versicolor', 'Iris-virginica'\n",
        "dados = dados[dados['class'].isin(names)]\n",
        "dados = dados.sample(frac=1).reset_index(drop=True)"
      ],
      "metadata": {
        "id": "VcMWLlmzM0Ky"
      },
      "execution_count": 66,
      "outputs": []
    },
    {
      "cell_type": "code",
      "source": [
        "dados[\"class\"] = dados[\"class\"].eq('Iris-virginica').mul(1) #Convertendo em boleriano  "
      ],
      "metadata": {
        "id": "BmAUEC91bc_7"
      },
      "execution_count": 67,
      "outputs": []
    },
    {
      "cell_type": "code",
      "source": [
        "# Divide em treino e teste 70-30\n",
        "X_train, X_test, y_train, y_test = train_test_split(dados[\"petal-length\"].values.reshape(-1,1), dados[\"class\"].values.reshape(-1,1), test_size = 0.3, random_state=42)"
      ],
      "metadata": {
        "id": "dZSn-V5oOQwe"
      },
      "execution_count": 68,
      "outputs": []
    },
    {
      "cell_type": "code",
      "source": [
        "logist = LogisticRegression()\n",
        "# treina o modelo\n",
        "logist.fit(X_train, y_train)\n",
        "# faz predicao e salva em y_pred\n",
        "y_pred = logist.predict(X_test)"
      ],
      "metadata": {
        "colab": {
          "base_uri": "https://localhost:8080/"
        },
        "id": "EX2Jx2ixQSt-",
        "outputId": "cad63241-6abd-4d2f-8a49-f08d35dd6f7e"
      },
      "execution_count": 69,
      "outputs": [
        {
          "output_type": "stream",
          "name": "stderr",
          "text": [
            "/usr/local/lib/python3.7/dist-packages/sklearn/utils/validation.py:993: DataConversionWarning: A column-vector y was passed when a 1d array was expected. Please change the shape of y to (n_samples, ), for example using ravel().\n",
            "  y = column_or_1d(y, warn=True)\n"
          ]
        }
      ]
    },
    {
      "cell_type": "code",
      "source": [
        "# acuracia\n",
        "logist.score(X_test, y_test)\n",
        "\n",
        "# matriz de confusao\n",
        "print(confusion_matrix(y_test, y_pred))\n",
        "\n",
        "# outras metricas\n",
        "print(classification_report(y_test, y_pred))"
      ],
      "metadata": {
        "colab": {
          "base_uri": "https://localhost:8080/"
        },
        "id": "ppmAUNMSQZf7",
        "outputId": "634b2285-1245-4cf1-a036-8aae9bd64c99"
      },
      "execution_count": 70,
      "outputs": [
        {
          "output_type": "stream",
          "name": "stdout",
          "text": [
            "[[18  1]\n",
            " [ 0 11]]\n",
            "              precision    recall  f1-score   support\n",
            "\n",
            "           0       1.00      0.95      0.97        19\n",
            "           1       0.92      1.00      0.96        11\n",
            "\n",
            "    accuracy                           0.97        30\n",
            "   macro avg       0.96      0.97      0.96        30\n",
            "weighted avg       0.97      0.97      0.97        30\n",
            "\n"
          ]
        }
      ]
    },
    {
      "cell_type": "code",
      "source": [
        "# computa probabilidades\n",
        "y_pred_prob = logist.predict_proba(X_test)[:,1]\n",
        "\n",
        "# Gera fpr, tpr e thresholds\n",
        "fpr, tpr, thresholds = roc_curve(y_test, y_pred_prob)\n",
        "\n",
        "# curva ROC\n",
        "plt.figure(figsize=(9,5))\n",
        "plt.grid(True) \n",
        "plt.plot([0, 1], [0, 1], 'k--')\n",
        "plt.plot(fpr, tpr)\n",
        "plt.xlabel('False Positive Rate')\n",
        "plt.ylabel('True Positive Rate')\n",
        "plt.title('ROC Curve')\n",
        "plt.show()"
      ],
      "metadata": {
        "colab": {
          "base_uri": "https://localhost:8080/",
          "height": 350
        },
        "id": "Y9fKOwprRCeN",
        "outputId": "496d615d-5bd6-4f78-8521-631df60684bb"
      },
      "execution_count": 116,
      "outputs": [
        {
          "output_type": "display_data",
          "data": {
            "image/png": "[encoded data removed]",
            "text/plain": [
              "<Figure size 648x360 with 1 Axes>"
            ]
          },
          "metadata": {
            "needs_background": "light"
          }
        }
      ]
    },
    {
      "cell_type": "markdown",
      "source": [
        "# **Análise de componentes principais**"
      ],
      "metadata": {
        "id": "5pRPVEYFSh-3"
      }
    },
    {
      "cell_type": "code",
      "source": [
        " dados = pd.read_csv(url, names=colunas)\n",
        "\n",
        "features = [\"sepal-length\", \"sepal-width\", \"petal-length\", \"petal-width\"]\n",
        "# Separando as variaveis\n",
        "x = dados.loc[:, features].values\n",
        "# Separando as 'classes'\n",
        "y = dados.loc[:,['class']].values\n",
        "# Normalizando \n",
        "x = StandardScaler().fit_transform(x)"
      ],
      "metadata": {
        "id": "p1_jt_D1qd_R"
      },
      "execution_count": 85,
      "outputs": []
    },
    {
      "cell_type": "markdown",
      "source": [
        " Nesta seção, o código projeta os dados originais que são 4 dimensionais em 2 dimensões."
      ],
      "metadata": {
        "id": "PeJorRwOw87t"
      }
    },
    {
      "cell_type": "code",
      "source": [
        "pca = PCA(n_components=2)\n",
        "principalComponents = pca.fit_transform(x)\n",
        "principalDf = pd.DataFrame(data = principalComponents, columns = ['principal component 1', 'principal component 2'])"
      ],
      "metadata": {
        "id": "QmwEo989sTnz"
      },
      "execution_count": 87,
      "outputs": []
    },
    {
      "cell_type": "code",
      "source": [
        "finalDf = pd.concat([principalDf, dados[['class']]], axis = 1) #unindo novamente\n"
      ],
      "metadata": {
        "id": "UQvqJ_vcsbzi"
      },
      "execution_count": 90,
      "outputs": []
    },
    {
      "cell_type": "code",
      "source": [
        "#visualizando\n",
        "fig = plt.figure(figsize = (9,5))\n",
        "ax = fig.add_subplot(1,1,1) \n",
        "ax.set_xlabel('Principal Component 1', fontsize = 15)\n",
        "ax.set_ylabel('Principal Component 2', fontsize = 15)\n",
        "ax.set_title('2 component PCA', fontsize = 20)\n",
        "targets = ['Iris-setosa', 'Iris-versicolor', 'Iris-virginica']\n",
        "colors = ['r', 'g', 'b']\n",
        "for target, color in zip(targets,colors):\n",
        "    indicesToKeep = finalDf['class'] == target\n",
        "    ax.scatter(finalDf.loc[indicesToKeep, 'principal component 1']\n",
        "               , finalDf.loc[indicesToKeep, 'principal component 2']\n",
        "               , c = color\n",
        "               , s = 50)\n",
        "ax.legend(targets)\n",
        "ax.grid()"
      ],
      "metadata": {
        "colab": {
          "base_uri": "https://localhost:8080/",
          "height": 360
        },
        "id": "HWLnqUpysjZJ",
        "outputId": "c30876d0-a085-4ff9-d775-18ec931cc2cb"
      },
      "execution_count": 115,
      "outputs": [
        {
          "output_type": "display_data",
          "data": {
            "image/png": "[encoded data removed]",
            "text/plain": [
              "<Figure size 648x360 with 1 Axes>"
            ]
          },
          "metadata": {
            "needs_background": "light"
          }
        }
      ]
    },
    {
      "cell_type": "code",
      "source": [
        "pca.explained_variance_ratio_ # É a variação atribuida a cada um dos componentes principais, juntos eles contêm 95,80% das informações\n"
      ],
      "metadata": {
        "colab": {
          "base_uri": "https://localhost:8080/"
        },
        "id": "fQ504jR1s-62",
        "outputId": "c99cbf28-efe6-43d6-99b7-7abae4c63623"
      },
      "execution_count": 95,
      "outputs": [
        {
          "output_type": "execute_result",
          "data": {
            "text/plain": [
              "array([0.72770452, 0.23030523])"
            ]
          },
          "metadata": {},
          "execution_count": 95
        }
      ]
    },
    {
      "cell_type": "markdown",
      "source": [
        "# **Clusterização**"
      ],
      "metadata": {
        "id": "8aRsTMrNxRVi"
      }
    },
    {
      "cell_type": "code",
      "source": [
        "dados = pd.read_csv(url, names=colunas)\n",
        "x = dados.iloc[:,[0,1,2,3]].values\n",
        "# encontrando o numero otimo de clusters para k-means\n",
        "wcss = []\n",
        "\n",
        "for i in range(1,11):\n",
        "  kmeans = KMeans(n_clusters=i,init= 'k-means++',max_iter=300,n_init=10,random_state=0)\n",
        "  kmeans.fit(x)\n",
        "  wcss.append(kmeans.inertia_)\n",
        "\n",
        "plt.figure(figsize=(9,5))\n",
        "plt.plot(range(1,11),wcss)\n",
        "plt.grid(True)\n",
        "plt.xlabel('Number of clusters')\n",
        "plt.ylabel('Average within-cluster sum of squares')\n",
        "plt.title('Elbow for KMeans clustering')\n",
        "plt.show()"
      ],
      "metadata": {
        "colab": {
          "base_uri": "https://localhost:8080/",
          "height": 350
        },
        "id": "7Vliqd3QzXRf",
        "outputId": "34844bb2-47ea-418e-b2a7-e74e31721cca"
      },
      "execution_count": 114,
      "outputs": [
        {
          "output_type": "display_data",
          "data": {
            "image/png": "[encoded data removed]",
            "text/plain": [
              "<Figure size 648x360 with 1 Axes>"
            ]
          },
          "metadata": {
            "needs_background": "light"
          }
        }
      ]
    },
    {
      "cell_type": "code",
      "source": [
        "# De acordo com o gráfico acima, observa-se que o numero ideal de clusters seria 3\n",
        "kmeans = KMeans(n_clusters=3,init= 'k-means++',max_iter=300,n_init=10,random_state=0)\n",
        "y_kmeans = kmeans.fit_predict(x)"
      ],
      "metadata": {
        "id": "I2f3ux-S967H"
      },
      "execution_count": 108,
      "outputs": []
    },
    {
      "cell_type": "code",
      "source": [
        "# Visualizando os clusters\n",
        "plt.figure(figsize=(9,5))\n",
        "plt.grid(True) \n",
        "plt.scatter(x[y_kmeans == 0,0],x[y_kmeans==0,1], s = 100, c = 'red', label= \"Iris-setosa\")\n",
        "plt.scatter(x[y_kmeans == 1,0],x[y_kmeans==1,1], s = 100, c = 'blue', label= \"Iris-setosa\")\n",
        "plt.scatter(x[y_kmeans == 2,0],x[y_kmeans==2,1], s = 100, c = 'green', label= \"Iris-setosa\")\n",
        "plt.legend()\n"
      ],
      "metadata": {
        "colab": {
          "base_uri": "https://localhost:8080/",
          "height": 339
        },
        "id": "URMGiTvd-0mp",
        "outputId": "71d89852-6d5e-4319-9969-c659545806be"
      },
      "execution_count": 113,
      "outputs": [
        {
          "output_type": "execute_result",
          "data": {
            "text/plain": [
              "<matplotlib.legend.Legend at 0x7f39464e7090>"
            ]
          },
          "metadata": {},
          "execution_count": 113
        },
        {
          "output_type": "display_data",
          "data": {
            "image/png": "[encoded data removed]",
            "text/plain": [
              "<Figure size 648x360 with 1 Axes>"
            ]
          },
          "metadata": {
            "needs_background": "light"
          }
        }
      ]
    }
  ],
  "metadata": {
    "colab": {
      "name": "2 periodo.ipynb",
      "provenance": [],
      "collapsed_sections": [
        "YnqTHx6ZrgIi",
        "F20HiEEfrCOj",
        "ZUyLYldDauwf",
        "5pRPVEYFSh-3",
        "8aRsTMrNxRVi"
      ],
      "authorship_tag": "ABX9TyOPCO1zHHIX9vbrU9wDcsW0",
      "include_colab_link": true
    },
    "kernelspec": {
      "display_name": "Python 3",
      "name": "python3"
    },
    "language_info": {
      "name": "python"
    }
  },
  "nbformat": 4,
  "nbformat_minor": 0
}